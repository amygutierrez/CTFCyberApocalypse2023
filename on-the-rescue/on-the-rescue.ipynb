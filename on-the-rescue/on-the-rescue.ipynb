{
 "cells": [
  {
   "cell_type": "code",
   "execution_count": 2,
   "id": "8707550f",
   "metadata": {},
   "outputs": [],
   "source": [
    "from torch.nn import functional as F\n",
    "from collections import OrderedDict\n",
    "import torch.nn as nn\n",
    "import torch\n",
    "import os"
   ]
  },
  {
   "cell_type": "code",
   "execution_count": 3,
   "id": "0a806002",
   "metadata": {},
   "outputs": [],
   "source": [
    "git_home = os.getcwd() # get current directory \n",
    "file = f'{git_home}/bigram_model.pt'"
   ]
  },
  {
   "cell_type": "code",
   "execution_count": 4,
   "id": "164e9ce7",
   "metadata": {},
   "outputs": [],
   "source": [
    "## This code is was given as part of the architecture.py ##\n",
    "\n",
    "vocab = list(\"0123456789abcdefghijklmnopqrstuvwxyzABCDEFGHIJKLMNOPQRSTUVWXYZ!#$%&'()*+,-./:;<=>?@[\\]^_`{|}\\n\")\n",
    "\n",
    "class BigramLanguageModel(nn.Module):\n",
    "\n",
    "    def __init__(self, vocab_size):\n",
    "        super().__init__()\n",
    "        self.token_embedding_table = nn.Embedding(vocab_size, vocab_size)\n",
    "\n",
    "    def forward(self, idx, targets=None):\n",
    "\n",
    "        logits = self.token_embedding_table(idx) \n",
    "        \n",
    "        if targets is None:\n",
    "            loss = None\n",
    "        else:\n",
    "            B, T, C = logits.shape\n",
    "            logits = logits.view(B*T, C)\n",
    "            targets = targets.view(B*T)\n",
    "            loss = F.cross_entropy(logits, targets)\n",
    "\n",
    "        return logits"
   ]
  },
  {
   "cell_type": "markdown",
   "id": "be544717",
   "metadata": {},
   "source": [
    "**Looking at the _architecture.py_ code that was given, you see that the function returns `logits`.** \n",
    "\n",
    "**In machine learning, `logits` are model outputs (predictions) that are not normalized. Usually, there would be additional steps that will interpret these `logits` into a valid predition (usually a number between 0 and 1).**   "
   ]
  },
  {
   "cell_type": "code",
   "execution_count": 5,
   "id": "286edb7e",
   "metadata": {},
   "outputs": [
    {
     "data": {
      "text/plain": [
       "<All keys matched successfully>"
      ]
     },
     "execution_count": 5,
     "metadata": {},
     "output_type": "execute_result"
    }
   ],
   "source": [
    "# load model\n",
    "model = BigramLanguageModel(len(vocab)) # run model\n",
    "state_dict = torch.load(file) # load state_dict from the .pt file \n",
    "model.load_state_dict(state_dict) # load the given state_dict into the model "
   ]
  },
  {
   "cell_type": "markdown",
   "id": "1e28513d",
   "metadata": {},
   "source": [
    "------------\n",
    "**In the block below, we will use the seed value `1337`, which was given in the _architecture.py_ script. Adding a manual seed instead of a random seed allows for reproduciblity (will get the same answer every time). Whenever there is random seed, the answers are different.**"
   ]
  },
  {
   "cell_type": "markdown",
   "id": "8e374eb5",
   "metadata": {},
   "source": [
    "--------\n",
    "**The following lines:** <br>\n",
    "    `logits = model(idx)` <br>\n",
    "    `probs = F.softmax(logits.squeeze(), dim=0)` <br>\n",
    "\n",
    "**This corresponds to what was said above about logits, there needs to be an additional step for prediction purposes. This brings us to `SoftMax`, which is a very common function used in classification algorithms.** \n",
    "\n",
    "**`SoftMax` takes an input Tensor and rescales it so that the elements of the n-dimensional output Tensor lie in the range [0,1] and sum to 1.**\n",
    "\n",
    "_For more info on SoftMax, check out https://pytorch.org/docs/stable/generated/torch.nn.Softmax.html ._"
   ]
  },
  {
   "cell_type": "markdown",
   "id": "f2a53353",
   "metadata": {},
   "source": [
    "------\n",
    "**The following line:** <br>\n",
    "`index = torch.multinomial(probs, num_samples=1).item()` <br>\n",
    "**This line indexes a multinomial probability to each sample from the `probs` variable. This index will then be used for the list of characters that was given in the _archticeture.py_ script.**\n",
    "\n",
    "``vocab = list(\"0123456789abcdefghijklmnopqrstuvwxyzABCDEFGHIJKLMNOPQRSTUVWXYZ!#$%&'()*+,-./:;<=>?@[\\]^_`{|}\\n\")``\n",
    "\n",
    "**Each character will have a probability associated with it and will be caluclated based on a character set with `{`**\n",
    "**The reason I added the `generated_text = [\"{\"]`, is because we _know_ the flag will have `{` in it. Because of this, I wanted to help it out by finding the highest probability of characters that _only_ include a `{` in it.**\n",
    "\n",
    "_For more on multinomial, check out https://pytorch.org/docs/stable/generated/torch.multinomial.html ._"
   ]
  },
  {
   "cell_type": "code",
   "execution_count": 6,
   "id": "c27d9bd0",
   "metadata": {},
   "outputs": [
    {
     "name": "stdout",
     "output_type": "stream",
     "text": [
      "{Pr0t3c7_L1fe}\n",
      "HTB{Pr0t3c7_L1fe}\n",
      "HTB{Pr0t3c7_L1fe}\n",
      "\n"
     ]
    }
   ],
   "source": [
    "# set manual seed for reproducibility\n",
    "torch.manual_seed(1337) # this seed value was given in the architecture.py file\n",
    "\n",
    "# generate text with the manual seed and the state_dict given to the model\n",
    "\n",
    "generated_text = [\"{\"] # added this because we know that the flag will have `{`. \n",
    "idx = torch.tensor([[vocab.index(generated_text[-1])]])\n",
    "for i in range(50):\n",
    "    logits = model(idx)\n",
    "    probs = F.softmax(logits.squeeze(), dim=0)\n",
    "    index = torch.multinomial(probs, num_samples=1).item()\n",
    "    token = vocab[index]\n",
    "    generated_text.append(token)\n",
    "    idx = torch.tensor([[index]])\n",
    "    \n",
    "# join tokens to form the generated text\n",
    "generated_text = \"\".join(generated_text)\n",
    "print(generated_text)"
   ]
  },
  {
   "cell_type": "markdown",
   "id": "f8e76878",
   "metadata": {},
   "source": [
    "**૮₍˶ •. • ⑅₎ა ♡ glockachu**"
   ]
  },
  {
   "cell_type": "code",
   "execution_count": null,
   "id": "7c0a54e7",
   "metadata": {},
   "outputs": [],
   "source": []
  }
 ],
 "metadata": {
  "kernelspec": {
   "display_name": "Python 3 (ipykernel)",
   "language": "python",
   "name": "python3"
  },
  "language_info": {
   "codemirror_mode": {
    "name": "ipython",
    "version": 3
   },
   "file_extension": ".py",
   "mimetype": "text/x-python",
   "name": "python",
   "nbconvert_exporter": "python",
   "pygments_lexer": "ipython3",
   "version": "3.10.9"
  }
 },
 "nbformat": 4,
 "nbformat_minor": 5
}
