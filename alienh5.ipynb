{
  "nbformat": 4,
  "nbformat_minor": 0,
  "metadata": {
    "colab": {
      "provenance": []
    },
    "kernelspec": {
      "name": "python3",
      "display_name": "Python 3"
    },
    "language_info": {
      "name": "python"
    }
  },
  "cells": [
    {
      "cell_type": "code",
      "execution_count": null,
      "metadata": {
        "id": "EPuQwucS0Aet"
      },
      "outputs": [],
      "source": [
        "from google.colab import files\n",
        "uploaded = files.upload() # I used google colab, but if you don't load file here"
      ]
    },
    {
      "cell_type": "code",
      "source": [
        "import tensorflow as tf\n",
        "\n",
        "# Load the saved model using load_model()\n",
        "model = tf.keras.models.load_model('alien.h5')"
      ],
      "metadata": {
        "id": "fb90PIrq0JcQ"
      },
      "execution_count": null,
      "outputs": []
    },
    {
      "cell_type": "markdown",
      "source": [
        "As you can see, the model prints out: SFRCe24wdF9zb"
      ],
      "metadata": {
        "id": "6ik9x41u0RCm"
      }
    },
    {
      "cell_type": "code",
      "source": [
        "model.summary()"
      ],
      "metadata": {
        "id": "mzR3pM6p0Nev"
      },
      "execution_count": null,
      "outputs": []
    },
    {
      "cell_type": "markdown",
      "source": [
        "The model sumamry tells you what each layer of the model entails. As you can see, there are some layers that have weired names like:\n",
        " \"19oNHJkX3RvX3V\" and \"uZDNyc3Q0bmR9\"\n",
        "\n",
        " This looked like base64 encoding, so I copied and pasted it in one variable an decoded it."
      ],
      "metadata": {
        "id": "isEaL9RR0lNd"
      }
    },
    {
      "cell_type": "code",
      "source": [
        "import base64\n",
        "\n",
        "encoded_str = \"SFRCe24wdF9zb19oNHJkX3RvX3VuZDNyc3Q0bmR9\"\n",
        "decoded_str = base64.b64decode(encoded_str).decode('utf-8')\n",
        "\n",
        "print(decoded_str)"
      ],
      "metadata": {
        "id": "ZXn42gq50VfK"
      },
      "execution_count": null,
      "outputs": []
    }
  ]
}