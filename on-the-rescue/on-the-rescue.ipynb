{
 "cells": [
  {
   "cell_type": "code",
   "execution_count": 2,
   "id": "8707550f",
   "metadata": {},
   "outputs": [],
   "source": [
    "from torch.nn import functional as F\n",
    "from collections import OrderedDict\n",
    "import torch.nn as nn\n",
    "import torch\n",
    "import os"
   ]
  },
  {
   "cell_type": "code",
   "execution_count": 3,
   "id": "0a806002",
   "metadata": {},
   "outputs": [],
   "source": [
    "git_home = os.getcwd() # get current directory \n",
    "file = f'{git_home}/bigram_model.pt'"
   ]
  },
  {
   "cell_type": "code",
   "execution_count": 4,
   "id": "164e9ce7",
   "metadata": {},
   "outputs": [],
   "source": [
    "## This code is was given as part of the architecture.py ##\n",
    "\n",
    "vocab = list(\"0123456789abcdefghijklmnopqrstuvwxyzABCDEFGHIJKLMNOPQRSTUVWXYZ!#$%&'()*+,-./:;<=>?@[\\]^_`{|}\\n\")\n",
    "\n",
    "class BigramLanguageModel(nn.Module):\n",
    "\n",
    "    def __init__(self, vocab_size):\n",
    "        super().__init__()\n",
    "        self.token_embedding_table = nn.Embedding(vocab_size, vocab_size)\n",
    "\n",
    "    def forward(self, idx, targets=None):\n",
    "\n",
    "        logits = self.token_embedding_table(idx) \n",
    "        \n",
    "        if targets is None:\n",
    "            loss = None\n",
    "        else:\n",
    "            B, T, C = logits.shape\n",
    "            logits = logits.view(B*T, C)\n",
    "            targets = targets.view(B*T)\n",
    "            loss = F.cross_entropy(logits, targets)\n",
    "\n",
    "        return logits\n",
    "\n",
    "\n",
    "#model.eval()\n",
    "#input_tensor = torch.randint(len(vocab), (1,10))\n",
    "#logits = model(input_tensor)"
   ]
  },
  {
   "cell_type": "code",
   "execution_count": 5,
   "id": "286edb7e",
   "metadata": {},
   "outputs": [
    {
     "data": {
      "text/plain": [
       "<All keys matched successfully>"
      ]
     },
     "execution_count": 5,
     "metadata": {},
     "output_type": "execute_result"
    }
   ],
   "source": [
    "# load model\n",
    "model = BigramLanguageModel(len(vocab)) # run model\n",
    "state_dict = torch.load(file) # load state_dict from the .pt file \n",
    "model.load_state_dict(state_dict) # load the given state_dict into the model "
   ]
  },
  {
   "cell_type": "code",
   "execution_count": 6,
   "id": "c27d9bd0",
   "metadata": {},
   "outputs": [
    {
     "name": "stdout",
     "output_type": "stream",
     "text": [
      "{Pr0t3c7_L1fe}\n",
      "HTB{Pr0t3c7_L1fe}\n",
      "HTB{Pr0t3c7_L1fe}\n",
      "\n"
     ]
    }
   ],
   "source": [
    "# set manual seed for reproducibility\n",
    "torch.manual_seed(1337) # this seed value was given in the architecture.py file\n",
    "\n",
    "# generate text with the manual seed and the state_dict given to the model\n",
    "\n",
    "generated_text = [\"{\"] # added this because we know that the flag will have {. \n",
    "idx = torch.tensor([[vocab.index(generated_text[-1])]])\n",
    "for i in range(50):\n",
    "    logits = model(idx)\n",
    "    probs = F.softmax(logits.squeeze(), dim=0)\n",
    "    index = torch.multinomial(probs, num_samples=1).item()\n",
    "    token = vocab[index]\n",
    "    generated_text.append(token)\n",
    "    idx = torch.tensor([[index]])\n",
    "    \n",
    "# join tokens to form the generated text\n",
    "generated_text = \"\".join(generated_text)\n",
    "print(generated_text)"
   ]
  },
  {
   "cell_type": "markdown",
   "id": "f8e76878",
   "metadata": {},
   "source": [
    "**૮₍˶ •. • ⑅₎ა ♡ glockachu**"
   ]
  },
  {
   "cell_type": "code",
   "execution_count": null,
   "id": "7c0a54e7",
   "metadata": {},
   "outputs": [],
   "source": []
  }
 ],
 "metadata": {
  "kernelspec": {
   "display_name": "Python 3 (ipykernel)",
   "language": "python",
   "name": "python3"
  },
  "language_info": {
   "codemirror_mode": {
    "name": "ipython",
    "version": 3
   },
   "file_extension": ".py",
   "mimetype": "text/x-python",
   "name": "python",
   "nbconvert_exporter": "python",
   "pygments_lexer": "ipython3",
   "version": "3.10.9"
  }
 },
 "nbformat": 4,
 "nbformat_minor": 5
}
