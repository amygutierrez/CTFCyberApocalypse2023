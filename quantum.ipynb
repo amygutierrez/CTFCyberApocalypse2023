{
  "nbformat": 4,
  "nbformat_minor": 0,
  "metadata": {
    "colab": {
      "provenance": []
    },
    "kernelspec": {
      "name": "python3",
      "display_name": "Python 3"
    },
    "language_info": {
      "name": "python"
    }
  },
  "cells": [
    {
      "cell_type": "code",
      "execution_count": null,
      "metadata": {
        "id": "hE4Orm-r2Z7I"
      },
      "outputs": [],
      "source": [
        "from google.colab import files\n",
        "uploaded = files.upload() #upload file hereif using google Colab"
      ]
    },
    {
      "cell_type": "code",
      "source": [
        "from qiskit import QuantumCircuit, QuantumRegister, ClassicalRegister\n",
        "from qiskit import Aer, execute\n",
        "\n",
        "# Load the QASM file as a string\n",
        "with open('quantum_artifact.qasm', 'r') as file:\n",
        "    qasm_string = file.read()\n",
        "\n",
        "# Create a quantum circuit object from the QASM string\n",
        "qreg = QuantumRegister(2)\n",
        "creg = ClassicalRegister(2)\n",
        "qc = QuantumCircuit(qreg, creg)\n",
        "qc = QuantumCircuit.from_qasm_str(qasm_string)\n",
        "\n",
        "# Run the circuit on a local simulator\n",
        "backend = Aer.get_backend('qasm_simulator')\n",
        "job = execute(qc, backend)\n",
        "result = job.result()\n",
        "\n",
        "# Print the measurement counts\n",
        "counts = result.get_counts(qc)\n",
        "print(counts)"
      ],
      "metadata": {
        "id": "SPnEyF7D2fa8"
      },
      "execution_count": null,
      "outputs": []
    },
    {
      "cell_type": "markdown",
      "source": [
        "This prints out a long binary string. I then copy and pasted it into a decoder online"
      ],
      "metadata": {
        "id": "Tw4PNDu_2mIO"
      }
    },
    {
      "cell_type": "markdown",
      "source": [],
      "metadata": {
        "id": "REYBYkyz2cFp"
      }
    }
  ]
}