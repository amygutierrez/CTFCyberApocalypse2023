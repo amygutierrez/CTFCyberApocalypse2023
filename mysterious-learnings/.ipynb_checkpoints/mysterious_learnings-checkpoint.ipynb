{
 "cells": [
  {
   "cell_type": "code",
   "execution_count": 1,
   "metadata": {},
   "outputs": [],
   "source": [
    "# import necessary libraries\n",
    "\n",
    "import os\n",
    "import tensorflow as tf"
   ]
  },
  {
   "cell_type": "code",
   "execution_count": 2,
   "metadata": {},
   "outputs": [],
   "source": [
    "git_home = os.getcwd() # get current directory \n",
    "file = f'{git_home}/alien.h5'"
   ]
  },
  {
   "cell_type": "code",
   "execution_count": 3,
   "metadata": {
    "id": "fb90PIrq0JcQ"
   },
   "outputs": [
    {
     "name": "stdout",
     "output_type": "stream",
     "text": [
      "SFRCe24wdF9zb\n"
     ]
    }
   ],
   "source": [
    "# Load the saved model using load_model()\n",
    "\n",
    "model = tf.keras.models.load_model(file, compile=False)"
   ]
  },
  {
   "cell_type": "markdown",
   "metadata": {
    "id": "6ik9x41u0RCm"
   },
   "source": [
    "**As you can see, the model prints out: SFRCe24wdF9zb**"
   ]
  },
  {
   "cell_type": "code",
   "execution_count": 4,
   "metadata": {
    "id": "mzR3pM6p0Nev"
   },
   "outputs": [
    {
     "name": "stdout",
     "output_type": "stream",
     "text": [
      "Model: \"19oNHJkX3RvX3V\"\n",
      "_________________________________________________________________\n",
      " Layer (type)                Output Shape              Param #   \n",
      "=================================================================\n",
      " conv2d_3 (Conv2D)           (None, 30, 30, 32)        896       \n",
      "                                                                 \n",
      " max_pooling2d_2 (MaxPooling  (None, 15, 15, 32)       0         \n",
      " 2D)                                                             \n",
      "                                                                 \n",
      " conv2d_4 (Conv2D)           (None, 13, 13, 64)        18496     \n",
      "                                                                 \n",
      " max_pooling2d_3 (MaxPooling  (None, 6, 6, 64)         0         \n",
      " 2D)                                                             \n",
      "                                                                 \n",
      " conv2d_5 (Conv2D)           (None, 4, 4, 64)          36928     \n",
      "                                                                 \n",
      " uZDNyc3Q0bmR9 (Lambda)      (None, 4, 4, 64)          0         \n",
      "                                                                 \n",
      " flatten_1 (Flatten)         (None, 1024)              0         \n",
      "                                                                 \n",
      " dense_2 (Dense)             (None, 64)                65600     \n",
      "                                                                 \n",
      " dense_3 (Dense)             (None, 10)                650       \n",
      "                                                                 \n",
      " lambda_1 (Lambda)           (None, 10)                0         \n",
      "                                                                 \n",
      "=================================================================\n",
      "Total params: 122,570\n",
      "Trainable params: 122,570\n",
      "Non-trainable params: 0\n",
      "_________________________________________________________________\n"
     ]
    }
   ],
   "source": [
    "model.summary()"
   ]
  },
  {
   "cell_type": "markdown",
   "metadata": {
    "id": "isEaL9RR0lNd"
   },
   "source": [
    "**The model sumamry tells you what each layer of the model entails. As you can see, there are some layers that have weird names like:\n",
    " \"19oNHJkX3RvX3V\" and \"uZDNyc3Q0bmR9\"**\n",
    " \n",
    " **This looked like base64 encoding, so I copied and pasted it in one variable and decoded it.**"
   ]
  },
  {
   "cell_type": "code",
   "execution_count": 5,
   "metadata": {
    "id": "ZXn42gq50VfK"
   },
   "outputs": [
    {
     "name": "stdout",
     "output_type": "stream",
     "text": [
      "HTB{n0t_so_h4rd_to_und3rst4nd}\n"
     ]
    }
   ],
   "source": [
    "import base64\n",
    "\n",
    "encoded_str = \"SFRCe24wdF9zb19oNHJkX3RvX3VuZDNyc3Q0bmR9\"\n",
    "decoded_str = base64.b64decode(encoded_str).decode('utf-8')\n",
    "\n",
    "print(decoded_str)"
   ]
  },
  {
   "cell_type": "markdown",
   "metadata": {},
   "source": [
    " **૮₍˶ •. • ⑅₎ა ♡ glockachu**"
   ]
  },
  {
   "cell_type": "code",
   "execution_count": null,
   "metadata": {},
   "outputs": [],
   "source": []
  }
 ],
 "metadata": {
  "colab": {
   "provenance": []
  },
  "kernelspec": {
   "display_name": "Python 3 (ipykernel)",
   "language": "python",
   "name": "python3"
  },
  "language_info": {
   "codemirror_mode": {
    "name": "ipython",
    "version": 3
   },
   "file_extension": ".py",
   "mimetype": "text/x-python",
   "name": "python",
   "nbconvert_exporter": "python",
   "pygments_lexer": "ipython3",
   "version": "3.10.9"
  }
 },
 "nbformat": 4,
 "nbformat_minor": 1
}
